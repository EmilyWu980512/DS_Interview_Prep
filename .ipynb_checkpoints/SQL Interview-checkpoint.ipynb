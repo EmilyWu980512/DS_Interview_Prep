{
 "cells": [
  {
   "cell_type": "markdown",
   "id": "effb68b4",
   "metadata": {},
   "source": [
    "# Windows Function"
   ]
  },
  {
   "cell_type": "markdown",
   "id": "12fbaf6e",
   "metadata": {},
   "source": [
    "* Sorting problem see this: https://www.stratascratch.com/blog/the-ultimate-guide-to-sorting-in-sql/"
   ]
  },
  {
   "cell_type": "code",
   "execution_count": null,
   "id": "14ae7a3a",
   "metadata": {},
   "outputs": [],
   "source": []
  },
  {
   "cell_type": "code",
   "execution_count": null,
   "id": "cddcc6fd",
   "metadata": {},
   "outputs": [],
   "source": []
  },
  {
   "cell_type": "code",
   "execution_count": null,
   "id": "37b8d1d4",
   "metadata": {},
   "outputs": [],
   "source": []
  },
  {
   "cell_type": "code",
   "execution_count": null,
   "id": "5a8b4293",
   "metadata": {},
   "outputs": [],
   "source": []
  },
  {
   "cell_type": "code",
   "execution_count": null,
   "id": "5e69043a",
   "metadata": {},
   "outputs": [],
   "source": []
  }
 ],
 "metadata": {
  "kernelspec": {
   "display_name": "Python 3 (ipykernel)",
   "language": "python",
   "name": "python3"
  },
  "language_info": {
   "codemirror_mode": {
    "name": "ipython",
    "version": 3
   },
   "file_extension": ".py",
   "mimetype": "text/x-python",
   "name": "python",
   "nbconvert_exporter": "python",
   "pygments_lexer": "ipython3",
   "version": "3.9.13"
  }
 },
 "nbformat": 4,
 "nbformat_minor": 5
}
